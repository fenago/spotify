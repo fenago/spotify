{
  "nbformat": 4,
  "nbformat_minor": 0,
  "metadata": {
    "colab": {
      "name": "data_cleaning.ipynb",
      "provenance": []
    },
    "kernelspec": {
      "name": "python392jvsc74a57bd0cf6663ca35ebd57d6121109460e534e72c1e1f8ff142ad985cdcb4b7e585eb79",
      "display_name": "Python 3.9.2 64-bit"
    },
    "metadata": {
      "interpreter": {
        "hash": "cf6663ca35ebd57d6121109460e534e72c1e1f8ff142ad985cdcb4b7e585eb79"
      }
    }
  },
  "cells": [
    {
      "cell_type": "markdown",
      "metadata": {
        "id": "Sr8so99VZS8p"
      },
      "source": [
        "# Data Cleaning\n",
        "\n",
        "Before starting out with data analysis it is pertinent that we check the data and solve any messiness present in the data so that we get accurate results."
      ]
    },
    {
      "cell_type": "code",
      "metadata": {
        "id": "4UR7mSuC9sjO"
      },
      "source": [
        "#importing required packages\n",
        "import pandas as pd"
      ],
      "execution_count": 1,
      "outputs": []
    },
    {
      "cell_type": "code",
      "metadata": {
        "id": "h2AUa_wGi252",
        "outputId": "c6c9c05f-d882-4b95-ee47-a74c9ef0aa4d",
        "colab": {
          "base_uri": "https://localhost:8080/",
          "height": 411
        }
      },
      "source": [
        "# loading the song file\n",
        "df1 = pd.read_csv('spotify data scraping\\output\\\\final.csv')\n",
        "df1.head()"
      ],
      "execution_count": 2,
      "outputs": [
        {
          "output_type": "execute_result",
          "data": {
            "text/plain": [
              "   Unnamed: 0                    name           endTime    artistName  \\\n",
              "0           0                Gasoline  2020-05-12 08:49        Halsey   \n",
              "1           1                   IDGAF  2020-05-24 15:36      Dua Lipa   \n",
              "2           2                   IDGAF  2020-05-28 09:21      Dua Lipa   \n",
              "3           3  No One Compares To You  2020-05-28 09:25   Jack & Jack   \n",
              "4           4               Big Plans  2020-05-28 09:27  Why Don't We   \n",
              "\n",
              "                trackName  msPlayed             datetime  danceability  \\\n",
              "0                Gasoline    199593  2020-05-12 08:49:00         0.731   \n",
              "1                   IDGAF    150004  2020-05-24 15:36:00         0.836   \n",
              "2                   IDGAF    213981  2020-05-28 09:21:00         0.836   \n",
              "3  No One Compares To You    177858  2020-05-28 09:25:00         0.700   \n",
              "4               Big Plans    146083  2020-05-28 09:27:00         0.693   \n",
              "\n",
              "   energy   key  ...  liveness  valence    tempo            type  \\\n",
              "0   0.580  10.0  ...    0.1290    0.319  119.997  audio_features   \n",
              "1   0.544   7.0  ...    0.0824    0.510   97.028  audio_features   \n",
              "2   0.544   7.0  ...    0.0824    0.510   97.028  audio_features   \n",
              "3   0.748   1.0  ...    0.0941    0.631  111.939  audio_features   \n",
              "4   0.604  11.0  ...    0.1140    0.651   75.014  audio_features   \n",
              "\n",
              "                       id                                   uri  \\\n",
              "0  2IO7yf562c1zLzpanal1DT  spotify:track:2IO7yf562c1zLzpanal1DT   \n",
              "1  76cy1WJvNGJTj78UqeA5zr  spotify:track:76cy1WJvNGJTj78UqeA5zr   \n",
              "2  76cy1WJvNGJTj78UqeA5zr  spotify:track:76cy1WJvNGJTj78UqeA5zr   \n",
              "3  4cZ3UsiKd1kUQIaq4BFIj2  spotify:track:4cZ3UsiKd1kUQIaq4BFIj2   \n",
              "4  3eng6TJxpqjvDkxRpnfnhB  spotify:track:3eng6TJxpqjvDkxRpnfnhB   \n",
              "\n",
              "                                          track_href  \\\n",
              "0  https://api.spotify.com/v1/tracks/2IO7yf562c1z...   \n",
              "1  https://api.spotify.com/v1/tracks/76cy1WJvNGJT...   \n",
              "2  https://api.spotify.com/v1/tracks/76cy1WJvNGJT...   \n",
              "3  https://api.spotify.com/v1/tracks/4cZ3UsiKd1kU...   \n",
              "4  https://api.spotify.com/v1/tracks/3eng6TJxpqjv...   \n",
              "\n",
              "                                        analysis_url duration_ms  \\\n",
              "0  https://api.spotify.com/v1/audio-analysis/2IO7...    199593.0   \n",
              "1  https://api.spotify.com/v1/audio-analysis/76cy...    217947.0   \n",
              "2  https://api.spotify.com/v1/audio-analysis/76cy...    217947.0   \n",
              "3  https://api.spotify.com/v1/audio-analysis/4cZ3...    182920.0   \n",
              "4  https://api.spotify.com/v1/audio-analysis/3eng...    179930.0   \n",
              "\n",
              "  time_signature  \n",
              "0            4.0  \n",
              "1            4.0  \n",
              "2            4.0  \n",
              "3            4.0  \n",
              "4            4.0  \n",
              "\n",
              "[5 rows x 25 columns]"
            ],
            "text/html": "<div>\n<style scoped>\n    .dataframe tbody tr th:only-of-type {\n        vertical-align: middle;\n    }\n\n    .dataframe tbody tr th {\n        vertical-align: top;\n    }\n\n    .dataframe thead th {\n        text-align: right;\n    }\n</style>\n<table border=\"1\" class=\"dataframe\">\n  <thead>\n    <tr style=\"text-align: right;\">\n      <th></th>\n      <th>Unnamed: 0</th>\n      <th>name</th>\n      <th>endTime</th>\n      <th>artistName</th>\n      <th>trackName</th>\n      <th>msPlayed</th>\n      <th>datetime</th>\n      <th>danceability</th>\n      <th>energy</th>\n      <th>key</th>\n      <th>...</th>\n      <th>liveness</th>\n      <th>valence</th>\n      <th>tempo</th>\n      <th>type</th>\n      <th>id</th>\n      <th>uri</th>\n      <th>track_href</th>\n      <th>analysis_url</th>\n      <th>duration_ms</th>\n      <th>time_signature</th>\n    </tr>\n  </thead>\n  <tbody>\n    <tr>\n      <th>0</th>\n      <td>0</td>\n      <td>Gasoline</td>\n      <td>2020-05-12 08:49</td>\n      <td>Halsey</td>\n      <td>Gasoline</td>\n      <td>199593</td>\n      <td>2020-05-12 08:49:00</td>\n      <td>0.731</td>\n      <td>0.580</td>\n      <td>10.0</td>\n      <td>...</td>\n      <td>0.1290</td>\n      <td>0.319</td>\n      <td>119.997</td>\n      <td>audio_features</td>\n      <td>2IO7yf562c1zLzpanal1DT</td>\n      <td>spotify:track:2IO7yf562c1zLzpanal1DT</td>\n      <td>https://api.spotify.com/v1/tracks/2IO7yf562c1z...</td>\n      <td>https://api.spotify.com/v1/audio-analysis/2IO7...</td>\n      <td>199593.0</td>\n      <td>4.0</td>\n    </tr>\n    <tr>\n      <th>1</th>\n      <td>1</td>\n      <td>IDGAF</td>\n      <td>2020-05-24 15:36</td>\n      <td>Dua Lipa</td>\n      <td>IDGAF</td>\n      <td>150004</td>\n      <td>2020-05-24 15:36:00</td>\n      <td>0.836</td>\n      <td>0.544</td>\n      <td>7.0</td>\n      <td>...</td>\n      <td>0.0824</td>\n      <td>0.510</td>\n      <td>97.028</td>\n      <td>audio_features</td>\n      <td>76cy1WJvNGJTj78UqeA5zr</td>\n      <td>spotify:track:76cy1WJvNGJTj78UqeA5zr</td>\n      <td>https://api.spotify.com/v1/tracks/76cy1WJvNGJT...</td>\n      <td>https://api.spotify.com/v1/audio-analysis/76cy...</td>\n      <td>217947.0</td>\n      <td>4.0</td>\n    </tr>\n    <tr>\n      <th>2</th>\n      <td>2</td>\n      <td>IDGAF</td>\n      <td>2020-05-28 09:21</td>\n      <td>Dua Lipa</td>\n      <td>IDGAF</td>\n      <td>213981</td>\n      <td>2020-05-28 09:21:00</td>\n      <td>0.836</td>\n      <td>0.544</td>\n      <td>7.0</td>\n      <td>...</td>\n      <td>0.0824</td>\n      <td>0.510</td>\n      <td>97.028</td>\n      <td>audio_features</td>\n      <td>76cy1WJvNGJTj78UqeA5zr</td>\n      <td>spotify:track:76cy1WJvNGJTj78UqeA5zr</td>\n      <td>https://api.spotify.com/v1/tracks/76cy1WJvNGJT...</td>\n      <td>https://api.spotify.com/v1/audio-analysis/76cy...</td>\n      <td>217947.0</td>\n      <td>4.0</td>\n    </tr>\n    <tr>\n      <th>3</th>\n      <td>3</td>\n      <td>No One Compares To You</td>\n      <td>2020-05-28 09:25</td>\n      <td>Jack &amp; Jack</td>\n      <td>No One Compares To You</td>\n      <td>177858</td>\n      <td>2020-05-28 09:25:00</td>\n      <td>0.700</td>\n      <td>0.748</td>\n      <td>1.0</td>\n      <td>...</td>\n      <td>0.0941</td>\n      <td>0.631</td>\n      <td>111.939</td>\n      <td>audio_features</td>\n      <td>4cZ3UsiKd1kUQIaq4BFIj2</td>\n      <td>spotify:track:4cZ3UsiKd1kUQIaq4BFIj2</td>\n      <td>https://api.spotify.com/v1/tracks/4cZ3UsiKd1kU...</td>\n      <td>https://api.spotify.com/v1/audio-analysis/4cZ3...</td>\n      <td>182920.0</td>\n      <td>4.0</td>\n    </tr>\n    <tr>\n      <th>4</th>\n      <td>4</td>\n      <td>Big Plans</td>\n      <td>2020-05-28 09:27</td>\n      <td>Why Don't We</td>\n      <td>Big Plans</td>\n      <td>146083</td>\n      <td>2020-05-28 09:27:00</td>\n      <td>0.693</td>\n      <td>0.604</td>\n      <td>11.0</td>\n      <td>...</td>\n      <td>0.1140</td>\n      <td>0.651</td>\n      <td>75.014</td>\n      <td>audio_features</td>\n      <td>3eng6TJxpqjvDkxRpnfnhB</td>\n      <td>spotify:track:3eng6TJxpqjvDkxRpnfnhB</td>\n      <td>https://api.spotify.com/v1/tracks/3eng6TJxpqjv...</td>\n      <td>https://api.spotify.com/v1/audio-analysis/3eng...</td>\n      <td>179930.0</td>\n      <td>4.0</td>\n    </tr>\n  </tbody>\n</table>\n<p>5 rows × 25 columns</p>\n</div>"
          },
          "metadata": {},
          "execution_count": 2
        }
      ]
    },
    {
      "cell_type": "code",
      "metadata": {
        "id": "pDUA6hmGid8X",
        "outputId": "848c1fa8-4e7f-48ba-b7ac-83bd4f571619",
        "colab": {
          "base_uri": "https://localhost:8080/",
          "height": 119
        }
      },
      "source": [
        "df1.columns"
      ],
      "execution_count": 3,
      "outputs": [
        {
          "output_type": "execute_result",
          "data": {
            "text/plain": [
              "Index(['Unnamed: 0', 'name', 'endTime', 'artistName', 'trackName', 'msPlayed',\n",
              "       'datetime', 'danceability', 'energy', 'key', 'loudness', 'mode',\n",
              "       'speechiness', 'acousticness', 'instrumentalness', 'liveness',\n",
              "       'valence', 'tempo', 'type', 'id', 'uri', 'track_href', 'analysis_url',\n",
              "       'duration_ms', 'time_signature'],\n",
              "      dtype='object')"
            ]
          },
          "metadata": {},
          "execution_count": 3
        }
      ]
    },
    {
      "cell_type": "code",
      "metadata": {
        "id": "FJ5-LKs41VLm",
        "outputId": "00b2d3e2-9837-46d4-dc83-cd0589a6bb41",
        "colab": {
          "base_uri": "https://localhost:8080/",
          "height": 462
        }
      },
      "source": [
        "# loading the playlist data file\n",
        "df2 = pd.read_csv('spotify data scraping\\playlist.csv')\n",
        "df2.head()"
      ],
      "execution_count": 4,
      "outputs": [
        {
          "output_type": "execute_result",
          "data": {
            "text/plain": [
              "   Unnamed: 0  id              spotify_id          list_name  \\\n",
              "0           0   1  4a52HM6SrYSAY5mR0TKNQ5           Yoga Mix   \n",
              "1           1   2  5YEjVJDZUPPybUvNWWfDM0  Chillax Dance Mix   \n",
              "2           2   2  5YEjVJDZUPPybUvNWWfDM0  Chillax Dance Mix   \n",
              "3           3   2  5YEjVJDZUPPybUvNWWfDM0  Chillax Dance Mix   \n",
              "4           4   2  5YEjVJDZUPPybUvNWWfDM0  Chillax Dance Mix   \n",
              "\n",
              "                  list_id                 song_id  \\\n",
              "0                     NaN                     NaN   \n",
              "1  5YEjVJDZUPPybUvNWWfDM0  2mCF8L0brIs88eH6Kf2h9p   \n",
              "2  5YEjVJDZUPPybUvNWWfDM0  2tnVG71enUj33Ic2nFN6kZ   \n",
              "3  5YEjVJDZUPPybUvNWWfDM0  2tnVG71enUj33Ic2nFN6kZ   \n",
              "4  5YEjVJDZUPPybUvNWWfDM0  0vbtURX4qv1l7besfwmnD8   \n",
              "\n",
              "                             song_name       artist  popularity release_date  \\\n",
              "0                                  NaN          NaN         NaN          NaN   \n",
              "1                             Fast Car   Jonas Blue        68.0   2015-12-04   \n",
              "2                              Ride It       Regard        86.0   2019-07-26   \n",
              "3                              Ride It       Regard        86.0   2019-07-26   \n",
              "4  I Took A Pill In Ibiza - Seeb Remix  Mike Posner        77.0   2016-05-06   \n",
              "\n",
              "   ...    tempo  speechiness  acousticness  instrumentalness  danceability  \\\n",
              "0  ...      NaN          NaN           NaN               NaN           NaN   \n",
              "1  ...  113.945       0.0520        0.4840          0.000000         0.644   \n",
              "2  ...  117.948       0.0874        0.1770          0.000064         0.880   \n",
              "3  ...  117.948       0.0874        0.1770          0.000064         0.880   \n",
              "4  ...  101.969       0.1110        0.0353          0.000008         0.664   \n",
              "\n",
              "   duration_ms  loudness  valence  mode  key  \n",
              "0          NaN       NaN      NaN   NaN  NaN  \n",
              "1     212424.0    -6.994    0.527   1.0  9.0  \n",
              "2     157606.0    -4.258    0.884   0.0  7.0  \n",
              "3     157606.0    -4.258    0.884   0.0  7.0  \n",
              "4     197933.0    -6.645    0.710   0.0  7.0  \n",
              "\n",
              "[5 rows x 22 columns]"
            ],
            "text/html": "<div>\n<style scoped>\n    .dataframe tbody tr th:only-of-type {\n        vertical-align: middle;\n    }\n\n    .dataframe tbody tr th {\n        vertical-align: top;\n    }\n\n    .dataframe thead th {\n        text-align: right;\n    }\n</style>\n<table border=\"1\" class=\"dataframe\">\n  <thead>\n    <tr style=\"text-align: right;\">\n      <th></th>\n      <th>Unnamed: 0</th>\n      <th>id</th>\n      <th>spotify_id</th>\n      <th>list_name</th>\n      <th>list_id</th>\n      <th>song_id</th>\n      <th>song_name</th>\n      <th>artist</th>\n      <th>popularity</th>\n      <th>release_date</th>\n      <th>...</th>\n      <th>tempo</th>\n      <th>speechiness</th>\n      <th>acousticness</th>\n      <th>instrumentalness</th>\n      <th>danceability</th>\n      <th>duration_ms</th>\n      <th>loudness</th>\n      <th>valence</th>\n      <th>mode</th>\n      <th>key</th>\n    </tr>\n  </thead>\n  <tbody>\n    <tr>\n      <th>0</th>\n      <td>0</td>\n      <td>1</td>\n      <td>4a52HM6SrYSAY5mR0TKNQ5</td>\n      <td>Yoga Mix</td>\n      <td>NaN</td>\n      <td>NaN</td>\n      <td>NaN</td>\n      <td>NaN</td>\n      <td>NaN</td>\n      <td>NaN</td>\n      <td>...</td>\n      <td>NaN</td>\n      <td>NaN</td>\n      <td>NaN</td>\n      <td>NaN</td>\n      <td>NaN</td>\n      <td>NaN</td>\n      <td>NaN</td>\n      <td>NaN</td>\n      <td>NaN</td>\n      <td>NaN</td>\n    </tr>\n    <tr>\n      <th>1</th>\n      <td>1</td>\n      <td>2</td>\n      <td>5YEjVJDZUPPybUvNWWfDM0</td>\n      <td>Chillax Dance Mix</td>\n      <td>5YEjVJDZUPPybUvNWWfDM0</td>\n      <td>2mCF8L0brIs88eH6Kf2h9p</td>\n      <td>Fast Car</td>\n      <td>Jonas Blue</td>\n      <td>68.0</td>\n      <td>2015-12-04</td>\n      <td>...</td>\n      <td>113.945</td>\n      <td>0.0520</td>\n      <td>0.4840</td>\n      <td>0.000000</td>\n      <td>0.644</td>\n      <td>212424.0</td>\n      <td>-6.994</td>\n      <td>0.527</td>\n      <td>1.0</td>\n      <td>9.0</td>\n    </tr>\n    <tr>\n      <th>2</th>\n      <td>2</td>\n      <td>2</td>\n      <td>5YEjVJDZUPPybUvNWWfDM0</td>\n      <td>Chillax Dance Mix</td>\n      <td>5YEjVJDZUPPybUvNWWfDM0</td>\n      <td>2tnVG71enUj33Ic2nFN6kZ</td>\n      <td>Ride It</td>\n      <td>Regard</td>\n      <td>86.0</td>\n      <td>2019-07-26</td>\n      <td>...</td>\n      <td>117.948</td>\n      <td>0.0874</td>\n      <td>0.1770</td>\n      <td>0.000064</td>\n      <td>0.880</td>\n      <td>157606.0</td>\n      <td>-4.258</td>\n      <td>0.884</td>\n      <td>0.0</td>\n      <td>7.0</td>\n    </tr>\n    <tr>\n      <th>3</th>\n      <td>3</td>\n      <td>2</td>\n      <td>5YEjVJDZUPPybUvNWWfDM0</td>\n      <td>Chillax Dance Mix</td>\n      <td>5YEjVJDZUPPybUvNWWfDM0</td>\n      <td>2tnVG71enUj33Ic2nFN6kZ</td>\n      <td>Ride It</td>\n      <td>Regard</td>\n      <td>86.0</td>\n      <td>2019-07-26</td>\n      <td>...</td>\n      <td>117.948</td>\n      <td>0.0874</td>\n      <td>0.1770</td>\n      <td>0.000064</td>\n      <td>0.880</td>\n      <td>157606.0</td>\n      <td>-4.258</td>\n      <td>0.884</td>\n      <td>0.0</td>\n      <td>7.0</td>\n    </tr>\n    <tr>\n      <th>4</th>\n      <td>4</td>\n      <td>2</td>\n      <td>5YEjVJDZUPPybUvNWWfDM0</td>\n      <td>Chillax Dance Mix</td>\n      <td>5YEjVJDZUPPybUvNWWfDM0</td>\n      <td>0vbtURX4qv1l7besfwmnD8</td>\n      <td>I Took A Pill In Ibiza - Seeb Remix</td>\n      <td>Mike Posner</td>\n      <td>77.0</td>\n      <td>2016-05-06</td>\n      <td>...</td>\n      <td>101.969</td>\n      <td>0.1110</td>\n      <td>0.0353</td>\n      <td>0.000008</td>\n      <td>0.664</td>\n      <td>197933.0</td>\n      <td>-6.645</td>\n      <td>0.710</td>\n      <td>0.0</td>\n      <td>7.0</td>\n    </tr>\n  </tbody>\n</table>\n<p>5 rows × 22 columns</p>\n</div>"
          },
          "metadata": {},
          "execution_count": 4
        }
      ]
    },
    {
      "cell_type": "code",
      "metadata": {
        "id": "hvrzCw4A1dYv",
        "outputId": "37898551-5c95-44c6-b27e-61ab4de5ea3a",
        "colab": {
          "base_uri": "https://localhost:8080/",
          "height": 102
        }
      },
      "source": [
        "df2.columns"
      ],
      "execution_count": 5,
      "outputs": [
        {
          "output_type": "execute_result",
          "data": {
            "text/plain": [
              "Index(['Unnamed: 0', 'id', 'spotify_id', 'list_name', 'list_id', 'song_id',\n",
              "       'song_name', 'artist', 'popularity', 'release_date', 'energy',\n",
              "       'liveness', 'tempo', 'speechiness', 'acousticness', 'instrumentalness',\n",
              "       'danceability', 'duration_ms', 'loudness', 'valence', 'mode', 'key'],\n",
              "      dtype='object')"
            ]
          },
          "metadata": {},
          "execution_count": 5
        }
      ]
    },
    {
      "cell_type": "markdown",
      "metadata": {
        "id": "y1gIP2RioD3T"
      },
      "source": [
        "## Dropping columns\n",
        "\n",
        "There are many columns that are not required for analysis so we will drop those columns."
      ]
    },
    {
      "cell_type": "code",
      "metadata": {
        "id": "KTnh16-_4E7n"
      },
      "source": [
        "df1 = df1.drop(columns=['Unnamed: 0', 'name', 'endTime', 'type', 'uri', 'track_href', 'analysis_url', 'duration_ms' ])\n",
        "df2 = df2.drop(columns=['Unnamed: 0', 'id', 'spotify_id', 'list_id' ])"
      ],
      "execution_count": 6,
      "outputs": []
    },
    {
      "cell_type": "markdown",
      "metadata": {
        "id": "Y0lTWdV2d9CJ"
      },
      "source": [
        "## Removing Duplicates\n",
        "\n",
        "Since I have listened to a single song multiple times so there are multiple entries of a single song. \n",
        "\n",
        "So we will create a new csv file to store the distinct songs heard by me."
      ]
    },
    {
      "cell_type": "code",
      "metadata": {
        "id": "zWo-Y9HTbu2d",
        "outputId": "494f552a-2f4a-4019-fe28-50ec7a01b5e5",
        "colab": {
          "base_uri": "https://localhost:8080/",
          "height": 34
        }
      },
      "source": [
        "# shape before dropping duplicate rows\n",
        "df1.shape"
      ],
      "execution_count": 7,
      "outputs": [
        {
          "output_type": "execute_result",
          "data": {
            "text/plain": [
              "(8413, 17)"
            ]
          },
          "metadata": {},
          "execution_count": 7
        }
      ]
    },
    {
      "cell_type": "code",
      "metadata": {
        "id": "s0Ut8ufO5xbL",
        "outputId": "f3620d9d-f38e-4a94-e06c-1bcfbbe792dd",
        "colab": {
          "base_uri": "https://localhost:8080/",
          "height": 34
        }
      },
      "source": [
        "df2.shape"
      ],
      "execution_count": 8,
      "outputs": [
        {
          "output_type": "execute_result",
          "data": {
            "text/plain": [
              "(342, 18)"
            ]
          },
          "metadata": {},
          "execution_count": 8
        }
      ]
    },
    {
      "cell_type": "code",
      "metadata": {
        "id": "ZVQS7OXpcoFG"
      },
      "source": [
        "# we are keeping the last instance instead of the first as we need the latest entry of the song\n",
        "df1_new = df1.drop_duplicates( subset = 'trackName', keep = 'last')\n",
        "df2_new = df2.drop_duplicates( subset = ['list_name', 'song_name'], keep = 'last')"
      ],
      "execution_count": 9,
      "outputs": []
    },
    {
      "cell_type": "code",
      "metadata": {
        "id": "KUk1PLfcb0xL",
        "outputId": "4f22bf29-f79b-4362-d395-7e8caf5040dc",
        "colab": {
          "base_uri": "https://localhost:8080/",
          "height": 34
        }
      },
      "source": [
        "# after dropping duplicate rows\n",
        "df1_new.shape"
      ],
      "execution_count": 10,
      "outputs": [
        {
          "output_type": "execute_result",
          "data": {
            "text/plain": [
              "(2135, 17)"
            ]
          },
          "metadata": {},
          "execution_count": 10
        }
      ]
    },
    {
      "cell_type": "code",
      "metadata": {
        "id": "tdAw50bF5_Cy",
        "outputId": "1c259aa3-0b7d-4cb6-a73e-0225646aa821",
        "colab": {
          "base_uri": "https://localhost:8080/",
          "height": 34
        }
      },
      "source": [
        "# after dropping duplicate rows\n",
        "df2_new.shape"
      ],
      "execution_count": 11,
      "outputs": [
        {
          "output_type": "execute_result",
          "data": {
            "text/plain": [
              "(242, 18)"
            ]
          },
          "metadata": {},
          "execution_count": 11
        }
      ]
    },
    {
      "cell_type": "markdown",
      "metadata": {
        "id": "O4mpKHnVoLQA"
      },
      "source": [
        "## Null check\n",
        "\n",
        "Checking for empty cells and filling them is important. Since there are no empty cells there is no need for imputation."
      ]
    },
    {
      "cell_type": "code",
      "metadata": {
        "id": "1DRZKMkf4usG",
        "outputId": "9fdff8de-1bee-4513-a315-2ffa2fd6c0b0",
        "colab": {
          "base_uri": "https://localhost:8080/",
          "height": 323
        }
      },
      "source": [
        "df1.isnull().sum()"
      ],
      "execution_count": 12,
      "outputs": [
        {
          "output_type": "execute_result",
          "data": {
            "text/plain": [
              "artistName          0\n",
              "trackName           0\n",
              "msPlayed            0\n",
              "datetime            0\n",
              "danceability        0\n",
              "energy              0\n",
              "key                 0\n",
              "loudness            0\n",
              "mode                0\n",
              "speechiness         0\n",
              "acousticness        0\n",
              "instrumentalness    0\n",
              "liveness            0\n",
              "valence             0\n",
              "tempo               0\n",
              "id                  0\n",
              "time_signature      0\n",
              "dtype: int64"
            ]
          },
          "metadata": {},
          "execution_count": 12
        }
      ]
    },
    {
      "cell_type": "code",
      "metadata": {
        "id": "nOhCEsvp6Dvd",
        "outputId": "a2f79260-3ccb-4c8e-b6a2-ae81e93b0f84",
        "colab": {
          "base_uri": "https://localhost:8080/",
          "height": 340
        }
      },
      "source": [
        "df2.isnull().sum()"
      ],
      "execution_count": 13,
      "outputs": [
        {
          "output_type": "execute_result",
          "data": {
            "text/plain": [
              "list_name           0\n",
              "song_id             1\n",
              "song_name           1\n",
              "artist              1\n",
              "popularity          1\n",
              "release_date        1\n",
              "energy              1\n",
              "liveness            1\n",
              "tempo               1\n",
              "speechiness         1\n",
              "acousticness        1\n",
              "instrumentalness    1\n",
              "danceability        1\n",
              "duration_ms         1\n",
              "loudness            1\n",
              "valence             1\n",
              "mode                1\n",
              "key                 1\n",
              "dtype: int64"
            ]
          },
          "metadata": {},
          "execution_count": 13
        }
      ]
    },
    {
      "source": [
        "One of the playlist I created is empty. So we can delete that playlist entry. "
      ],
      "cell_type": "markdown",
      "metadata": {}
    },
    {
      "cell_type": "code",
      "execution_count": 14,
      "metadata": {},
      "outputs": [
        {
          "output_type": "execute_result",
          "data": {
            "text/plain": [
              "artistName          0\n",
              "trackName           0\n",
              "msPlayed            0\n",
              "datetime            0\n",
              "danceability        0\n",
              "energy              0\n",
              "key                 0\n",
              "loudness            0\n",
              "mode                0\n",
              "speechiness         0\n",
              "acousticness        0\n",
              "instrumentalness    0\n",
              "liveness            0\n",
              "valence             0\n",
              "tempo               0\n",
              "id                  0\n",
              "time_signature      0\n",
              "dtype: int64"
            ]
          },
          "metadata": {},
          "execution_count": 14
        }
      ],
      "source": [
        "df1_new.isnull().sum()"
      ]
    },
    {
      "cell_type": "code",
      "execution_count": 15,
      "metadata": {},
      "outputs": [
        {
          "output_type": "execute_result",
          "data": {
            "text/plain": [
              "list_name           0\n",
              "song_id             1\n",
              "song_name           1\n",
              "artist              1\n",
              "popularity          1\n",
              "release_date        1\n",
              "energy              1\n",
              "liveness            1\n",
              "tempo               1\n",
              "speechiness         1\n",
              "acousticness        1\n",
              "instrumentalness    1\n",
              "danceability        1\n",
              "duration_ms         1\n",
              "loudness            1\n",
              "valence             1\n",
              "mode                1\n",
              "key                 1\n",
              "dtype: int64"
            ]
          },
          "metadata": {},
          "execution_count": 15
        }
      ],
      "source": [
        "df2_new.isnull().sum()"
      ]
    },
    {
      "cell_type": "code",
      "execution_count": 16,
      "metadata": {},
      "outputs": [
        {
          "output_type": "stream",
          "name": "stderr",
          "text": [
            "<ipython-input-16-02a8665ffb07>:3: SettingWithCopyWarning: \nA value is trying to be set on a copy of a slice from a DataFrame\n\nSee the caveats in the documentation: https://pandas.pydata.org/pandas-docs/stable/user_guide/indexing.html#returning-a-view-versus-a-copy\n  df2_new.dropna(subset=['song_id', 'song_name', 'artist', 'popularity', 'release_date', 'energy', 'liveness', 'tempo', 'speechiness', 'acousticness', 'instrumentalness', 'danceability', 'duration_ms', 'loudness', 'valence', 'mode', 'key'] , inplace = True)\n"
          ]
        }
      ],
      "source": [
        "df2.dropna(subset=['song_id', 'song_name', 'artist', 'popularity', 'release_date', 'energy', 'liveness', 'tempo', 'speechiness', 'acousticness', 'instrumentalness', 'danceability', 'duration_ms', 'loudness', 'valence', 'mode', 'key'] , inplace = True)\n",
        "\n",
        "df2_new.dropna(subset=['song_id', 'song_name', 'artist', 'popularity', 'release_date', 'energy', 'liveness', 'tempo', 'speechiness', 'acousticness', 'instrumentalness', 'danceability', 'duration_ms', 'loudness', 'valence', 'mode', 'key'] , inplace = True)"
      ]
    },
    {
      "cell_type": "code",
      "execution_count": 17,
      "metadata": {},
      "outputs": [
        {
          "output_type": "execute_result",
          "data": {
            "text/plain": [
              "list_name           0\n",
              "song_id             0\n",
              "song_name           0\n",
              "artist              0\n",
              "popularity          0\n",
              "release_date        0\n",
              "energy              0\n",
              "liveness            0\n",
              "tempo               0\n",
              "speechiness         0\n",
              "acousticness        0\n",
              "instrumentalness    0\n",
              "danceability        0\n",
              "duration_ms         0\n",
              "loudness            0\n",
              "valence             0\n",
              "mode                0\n",
              "key                 0\n",
              "dtype: int64"
            ]
          },
          "metadata": {},
          "execution_count": 17
        }
      ],
      "source": [
        "df2.isnull().sum()"
      ]
    },
    {
      "cell_type": "code",
      "execution_count": 18,
      "metadata": {},
      "outputs": [
        {
          "output_type": "execute_result",
          "data": {
            "text/plain": [
              "list_name           0\n",
              "song_id             0\n",
              "song_name           0\n",
              "artist              0\n",
              "popularity          0\n",
              "release_date        0\n",
              "energy              0\n",
              "liveness            0\n",
              "tempo               0\n",
              "speechiness         0\n",
              "acousticness        0\n",
              "instrumentalness    0\n",
              "danceability        0\n",
              "duration_ms         0\n",
              "loudness            0\n",
              "valence             0\n",
              "mode                0\n",
              "key                 0\n",
              "dtype: int64"
            ]
          },
          "metadata": {},
          "execution_count": 18
        }
      ],
      "source": [
        "df2_new.isnull().sum()"
      ]
    },
    {
      "cell_type": "markdown",
      "metadata": {
        "id": "aSrHrs6yoPO3"
      },
      "source": [
        "## Data Format Check\n",
        "\n",
        "In this we are checking if the attributes match with their data type."
      ]
    },
    {
      "cell_type": "code",
      "metadata": {
        "id": "-drdk3kzVNsX",
        "outputId": "726e5ef7-ff88-4b18-ec45-ddf6e3290dd6",
        "colab": {
          "base_uri": "https://localhost:8080/",
          "height": 323
        }
      },
      "source": [
        "df1.dtypes"
      ],
      "execution_count": 19,
      "outputs": [
        {
          "output_type": "execute_result",
          "data": {
            "text/plain": [
              "artistName           object\n",
              "trackName            object\n",
              "msPlayed              int64\n",
              "datetime             object\n",
              "danceability        float64\n",
              "energy              float64\n",
              "key                 float64\n",
              "loudness            float64\n",
              "mode                float64\n",
              "speechiness         float64\n",
              "acousticness        float64\n",
              "instrumentalness    float64\n",
              "liveness            float64\n",
              "valence             float64\n",
              "tempo               float64\n",
              "id                   object\n",
              "time_signature      float64\n",
              "dtype: object"
            ]
          },
          "metadata": {},
          "execution_count": 19
        }
      ]
    },
    {
      "cell_type": "code",
      "metadata": {
        "id": "RjwGgZTT6IKs",
        "outputId": "c8949f2f-e67d-435f-e4a5-6062b6cda645",
        "colab": {
          "base_uri": "https://localhost:8080/",
          "height": 340
        }
      },
      "source": [
        "df2.dtypes"
      ],
      "execution_count": 20,
      "outputs": [
        {
          "output_type": "execute_result",
          "data": {
            "text/plain": [
              "list_name            object\n",
              "song_id              object\n",
              "song_name            object\n",
              "artist               object\n",
              "popularity          float64\n",
              "release_date         object\n",
              "energy              float64\n",
              "liveness            float64\n",
              "tempo               float64\n",
              "speechiness         float64\n",
              "acousticness        float64\n",
              "instrumentalness    float64\n",
              "danceability        float64\n",
              "duration_ms         float64\n",
              "loudness            float64\n",
              "valence             float64\n",
              "mode                float64\n",
              "key                 float64\n",
              "dtype: object"
            ]
          },
          "metadata": {},
          "execution_count": 20
        }
      ]
    },
    {
      "cell_type": "markdown",
      "metadata": {
        "id": "Ml1WwHImoUcB"
      },
      "source": [
        "## Value Check\n",
        "\n",
        "In this we are checking if the content inside the cells are correct or not. So by finding the max and min of the numerical values we can determine if the values are in the acceptable range or not."
      ]
    },
    {
      "cell_type": "code",
      "metadata": {
        "id": "MCGebu5zgerb",
        "outputId": "2422be2f-40d8-473c-82fc-3d462b8a17e3",
        "colab": {
          "base_uri": "https://localhost:8080/",
          "height": 323
        }
      },
      "source": [
        "df1.max(axis=0)"
      ],
      "execution_count": 21,
      "outputs": [
        {
          "output_type": "execute_result",
          "data": {
            "text/plain": [
              "artistName                       will.i.am\n",
              "trackName                Между нами любовь\n",
              "msPlayed                           3688090\n",
              "datetime               2021-05-20 09:43:00\n",
              "danceability                         0.965\n",
              "energy                               0.996\n",
              "key                                   11.0\n",
              "loudness                            -0.928\n",
              "mode                                   1.0\n",
              "speechiness                          0.893\n",
              "acousticness                         0.995\n",
              "instrumentalness                     0.959\n",
              "liveness                             0.967\n",
              "valence                               0.97\n",
              "tempo                              213.531\n",
              "id                  7zv0i1f8kTy8hPapkm28kz\n",
              "time_signature                         5.0\n",
              "dtype: object"
            ]
          },
          "metadata": {},
          "execution_count": 21
        }
      ]
    },
    {
      "cell_type": "code",
      "metadata": {
        "id": "L0dDp-Gpg7Mz",
        "outputId": "94710c30-e563-47f6-d9dc-c767c7368470",
        "colab": {
          "base_uri": "https://localhost:8080/",
          "height": 323
        }
      },
      "source": [
        "df1.min(axis=0)"
      ],
      "execution_count": 22,
      "outputs": [
        {
          "output_type": "execute_result",
          "data": {
            "text/plain": [
              "artistName                           $teev\n",
              "trackName                       #thatPOWER\n",
              "msPlayed                                 0\n",
              "datetime               2020-05-12 08:49:00\n",
              "danceability                           0.0\n",
              "energy                             0.00344\n",
              "key                                    0.0\n",
              "loudness                           -37.084\n",
              "mode                                   0.0\n",
              "speechiness                            0.0\n",
              "acousticness                      0.000003\n",
              "instrumentalness                       0.0\n",
              "liveness                               0.0\n",
              "valence                                0.0\n",
              "tempo                                  0.0\n",
              "id                  009ImBOrIUlWgla8U05RAC\n",
              "time_signature                         0.0\n",
              "dtype: object"
            ]
          },
          "metadata": {},
          "execution_count": 22
        }
      ]
    },
    {
      "cell_type": "code",
      "metadata": {
        "id": "_zmg3Rp46OAu",
        "outputId": "02dce1f1-18cb-49ae-ff36-b8bfee95892b",
        "colab": {
          "base_uri": "https://localhost:8080/",
          "height": 340
        }
      },
      "source": [
        "df2.max(axis=0)"
      ],
      "execution_count": 23,
      "outputs": [
        {
          "output_type": "execute_result",
          "data": {
            "text/plain": [
              "list_name                    Yash ke gaane\n",
              "song_id             7zx1i0jGcFwMBurajgKlO7\n",
              "song_name                       clementine\n",
              "artist                           will.i.am\n",
              "popularity                            86.0\n",
              "release_date                    2021-05-21\n",
              "energy                               0.977\n",
              "liveness                             0.977\n",
              "tempo                              191.772\n",
              "speechiness                          0.486\n",
              "acousticness                         0.954\n",
              "instrumentalness                     0.834\n",
              "danceability                         0.899\n",
              "duration_ms                       303598.0\n",
              "loudness                            -2.097\n",
              "valence                               0.95\n",
              "mode                                   1.0\n",
              "key                                   11.0\n",
              "dtype: object"
            ]
          },
          "metadata": {},
          "execution_count": 23
        }
      ]
    },
    {
      "cell_type": "code",
      "metadata": {
        "id": "QQHCCoRd6Q5j",
        "outputId": "88b00934-2c94-4cec-fac1-f51c15e55d35",
        "colab": {
          "base_uri": "https://localhost:8080/",
          "height": 340
        }
      },
      "source": [
        "df2.min(axis=0)"
      ],
      "execution_count": 24,
      "outputs": [
        {
          "output_type": "execute_result",
          "data": {
            "text/plain": [
              "list_name                        Adventure\n",
              "song_id             01TuObJVd7owWchVRuQbQw\n",
              "song_name                       #thatPOWER\n",
              "artist                                3LAU\n",
              "popularity                             0.0\n",
              "release_date                          1971\n",
              "energy                              0.0784\n",
              "liveness                            0.0331\n",
              "tempo                               74.103\n",
              "speechiness                         0.0257\n",
              "acousticness                      0.000554\n",
              "instrumentalness                       0.0\n",
              "danceability                         0.294\n",
              "duration_ms                       111852.0\n",
              "loudness                           -11.531\n",
              "valence                             0.0659\n",
              "mode                                   0.0\n",
              "key                                    0.0\n",
              "dtype: object"
            ]
          },
          "metadata": {},
          "execution_count": 24
        }
      ]
    },
    {
      "cell_type": "markdown",
      "metadata": {
        "id": "xgKhXLsN1IX8"
      },
      "source": [
        "So after performing all these checks there seems to be no issues with the dataset and hence no cleaning required."
      ]
    },
    {
      "cell_type": "code",
      "metadata": {
        "id": "J7qZ6flx1W0j"
      },
      "source": [
        "df1.to_csv('data\\song_data.csv')\n",
        "df1_new.to_csv('data\\distinct_song.csv')\n",
        "df2.to_csv('data\\playlist_data.csv')\n",
        "df2_new.to_csv('data\\distinct_playlist.csv')"
      ],
      "execution_count": 25,
      "outputs": []
    }
  ]
}